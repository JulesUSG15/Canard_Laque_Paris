{
 "cells": [
  {
   "cell_type": "code",
   "execution_count": 1,
   "metadata": {},
   "outputs": [
    {
     "name": "stdout",
     "output_type": "stream",
     "text": [
      "Le fichier 'atp_tennis.csv' a été chargé avec succès.\n"
     ]
    }
   ],
   "source": [
    "import pandas as pd\n",
    "import numpy as np\n",
    "\n",
    "# Chargement du jeu de données avec vérification\n",
    "try:\n",
    "    data = pd.read_csv('atp_tennis.csv')  \n",
    "except FileNotFoundError:\n",
    "    print(\"Le fichier 'atp_tennis.csv' n'a pas été trouvé. Assurez-vous que le fichier est dans le bon répertoire ou spécifiez le chemin complet.\")\n",
    "    data = None\n",
    "    \n",
    "# Verifiaction si le chargement a réussi\n",
    "if data is not None:\n",
    "    print(\"Le fichier 'atp_tennis.csv' a été chargé avec succès.\")\n",
    "    \n",
    "# Conversion des dates en format datetime si nécessaire\n",
    "data['Date'] = pd.to_datetime(data['Date'], format='%Y-%m-%d')\n",
    "\n",
    "\n",
    "    "
   ]
  },
  {
   "cell_type": "code",
   "execution_count": 2,
   "metadata": {},
   "outputs": [
    {
     "name": "stdout",
     "output_type": "stream",
     "text": [
      "Les informations sur le jeu de données\n",
      "<class 'pandas.core.frame.DataFrame'>\n",
      "RangeIndex: 61095 entries, 0 to 61094\n",
      "Data columns (total 17 columns):\n",
      " #   Column      Non-Null Count  Dtype         \n",
      "---  ------      --------------  -----         \n",
      " 0   Tournament  61095 non-null  object        \n",
      " 1   Date        61095 non-null  datetime64[ns]\n",
      " 2   Series      61095 non-null  object        \n",
      " 3   Court       61095 non-null  object        \n",
      " 4   Surface     61095 non-null  object        \n",
      " 5   Round       61095 non-null  object        \n",
      " 6   Best of     61095 non-null  int64         \n",
      " 7   Player_1    61095 non-null  object        \n",
      " 8   Player_2    61095 non-null  object        \n",
      " 9   Winner      61095 non-null  object        \n",
      " 10  Rank_1      61095 non-null  int64         \n",
      " 11  Rank_2      61095 non-null  int64         \n",
      " 12  Pts_1       61095 non-null  int64         \n",
      " 13  Pts_2       61095 non-null  int64         \n",
      " 14  Odd_1       61095 non-null  float64       \n",
      " 15  Odd_2       61095 non-null  float64       \n",
      " 16  Score       61095 non-null  object        \n",
      "dtypes: datetime64[ns](1), float64(2), int64(5), object(9)\n",
      "memory usage: 7.9+ MB\n"
     ]
    }
   ],
   "source": [
    "#Affichage des informations sur le jeu de données \n",
    "print(\"Les informations sur le jeu de données\")\n",
    "data.info()"
   ]
  },
  {
   "cell_type": "code",
   "execution_count": 3,
   "metadata": {},
   "outputs": [
    {
     "name": "stdout",
     "output_type": "stream",
     "text": [
      "Les premiers lignes du jeu de données nettoyé\n",
      "                           Tournament       Date         Series    Court  \\\n",
      "0  Australian Hardcourt Championships 2000-01-03  International  Outdoor   \n",
      "1  Australian Hardcourt Championships 2000-01-03  International  Outdoor   \n",
      "2  Australian Hardcourt Championships 2000-01-03  International  Outdoor   \n",
      "3  Australian Hardcourt Championships 2000-01-03  International  Outdoor   \n",
      "4  Australian Hardcourt Championships 2000-01-03  International  Outdoor   \n",
      "\n",
      "  Surface      Round  Best of        Player_1       Player_2       Winner  \\\n",
      "0    Hard  1st Round        3      Dosedel S.    Ljubicic I.   Dosedel S.   \n",
      "1    Hard  1st Round        3      Clement A.     Enqvist T.   Enqvist T.   \n",
      "2    Hard  1st Round        3       Escude N.  Baccanello P.    Escude N.   \n",
      "3    Hard  1st Round        3  Knippschild J.     Federer R.   Federer R.   \n",
      "4    Hard  1st Round        3     Fromberg R.  Woodbridge T.  Fromberg R.   \n",
      "\n",
      "   Rank_1  Rank_2  Pts_1  Pts_2  Odd_1  Odd_2           Score  \n",
      "0      63      77     -1     -1   -1.0   -1.0     6-4 6-2      \n",
      "1      56       5     -1     -1   -1.0   -1.0     3-6 3-6      \n",
      "2      40     655     -1     -1   -1.0   -1.0  6-7 7-5 6-3     \n",
      "3      87      65     -1     -1   -1.0   -1.0     1-6 4-6      \n",
      "4      81     198     -1     -1   -1.0   -1.0  7-6 5-7 6-4     \n"
     ]
    }
   ],
   "source": [
    "#Affichage des 5 premières lignes du jeu de données nettoyé\n",
    "print(\"Les premiers lignes du jeu de données nettoyé\")\n",
    "print(data.head())"
   ]
  },
  {
   "cell_type": "code",
   "execution_count": 4,
   "metadata": {},
   "outputs": [
    {
     "name": "stdout",
     "output_type": "stream",
     "text": [
      "Les derniers lignes du jeu de données\n",
      "      Tournament       Date      Series    Court Surface          Round  \\\n",
      "61090    US Open 2023-09-06  Grand Slam  Outdoor    Hard  Quarterfinals   \n",
      "61091    US Open 2023-09-07  Grand Slam  Outdoor    Hard  Quarterfinals   \n",
      "61092    US Open 2023-09-08  Grand Slam  Outdoor    Hard     Semifinals   \n",
      "61093    US Open 2023-09-09  Grand Slam  Outdoor    Hard     Semifinals   \n",
      "61094    US Open 2023-09-10  Grand Slam  Outdoor    Hard      The Final   \n",
      "\n",
      "       Best of     Player_1     Player_2       Winner  Rank_1  Rank_2  Pts_1  \\\n",
      "61090        5  Medvedev D.    Rublev A.  Medvedev D.       3       8   6260   \n",
      "61091        5    Zverev A.   Alcaraz C.   Alcaraz C.      12       1   2670   \n",
      "61092        5  Djokovic N.   Shelton B.  Djokovic N.       2      47   9795   \n",
      "61093        5   Alcaraz C.  Medvedev D.  Medvedev D.       1       3   9815   \n",
      "61094        5  Djokovic N.  Medvedev D.  Djokovic N.       2       3   9795   \n",
      "\n",
      "       Pts_2  Odd_1  Odd_2              Score  \n",
      "61090   4515   1.36   3.20     6-4 6-3 6-4     \n",
      "61091   9815   4.50   1.20     3-6 2-6 4-6     \n",
      "61092   1015   1.06  10.00     6-3 6-2 7-6     \n",
      "61093   6260   1.22   4.33  6-7 1-6 6-3 3-6    \n",
      "61094   6260   1.44   2.88     6-3 7-6 6-3     \n"
     ]
    }
   ],
   "source": [
    "#Affichage des 5 dernières lignes du jeu de données\n",
    "print(\"Les derniers lignes du jeu de données\")\n",
    "print(data.tail())"
   ]
  }
 ],
 "metadata": {
  "kernelspec": {
   "display_name": "base",
   "language": "python",
   "name": "python3"
  },
  "language_info": {
   "codemirror_mode": {
    "name": "ipython",
    "version": 3
   },
   "file_extension": ".py",
   "mimetype": "text/x-python",
   "name": "python",
   "nbconvert_exporter": "python",
   "pygments_lexer": "ipython3",
   "version": "3.7.1"
  },
  "orig_nbformat": 4
 },
 "nbformat": 4,
 "nbformat_minor": 2
}
